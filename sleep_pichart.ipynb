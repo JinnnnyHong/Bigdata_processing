{
  "nbformat": 4,
  "nbformat_minor": 0,
  "metadata": {
    "colab": {
      "provenance": [],
      "authorship_tag": "ABX9TyPZLjw2n96MAHcyTY11XvpX",
      "include_colab_link": true
    },
    "kernelspec": {
      "name": "python3",
      "display_name": "Python 3"
    },
    "language_info": {
      "name": "python"
    }
  },
  "cells": [
    {
      "cell_type": "markdown",
      "metadata": {
        "id": "view-in-github",
        "colab_type": "text"
      },
      "source": [
        "<a href=\"https://colab.research.google.com/github/JinnnnyHong/Bigdata_processing/blob/main/sleep_pichart.ipynb\" target=\"_parent\"><img src=\"https://colab.research.google.com/assets/colab-badge.svg\" alt=\"Open In Colab\"/></a>"
      ]
    },
    {
      "cell_type": "code",
      "source": [
        "import pandas as pd\n",
        "import seaborn as sns\n",
        "import matplotlib.pyplot as plt"
      ],
      "metadata": {
        "id": "JJmfO9jUa37p"
      },
      "execution_count": 1,
      "outputs": []
    },
    {
      "cell_type": "code",
      "source": [
        "df = pd.read_csv('train_sleep.csv')"
      ],
      "metadata": {
        "id": "WibpM7aXa_6m"
      },
      "execution_count": 2,
      "outputs": []
    },
    {
      "cell_type": "code",
      "source": [
        "from datetime import datetime\n",
        "\n",
        "for id in df['ID'].unique():\n",
        "    # 해당 ID의 데이터만 추출\n",
        "    df_id = df[df['ID']==id]\n",
        "    \n",
        "    # 그래프 그리기\n",
        "    for date in df_id['date'].unique():\n",
        "        # 해당 날짜의 데이터만 추출\n",
        "        df_date = df_id[df_id['date']==date]\n",
        "        \n",
        "        # 각 날짜별 duration 대비 rem 비율 계산\n",
        "        sleep_duration = df_date['sleep_duration'].values[0]\n",
        "        sleep_rem = df_date['sleep_rem'].values[0]\n",
        "        rem_ratio = sleep_rem / sleep_duration\n",
        "        \n",
        "        # 파이차트 그리기\n",
        "        fig, ax = plt.subplots()\n",
        "        ax.pie([rem_ratio, 1-rem_ratio], \n",
        "               colors=['#1f77b4', '#d1d1d1'], \n",
        "               autopct='%.1f%%',\n",
        "               startangle=90,\n",
        "               wedgeprops={'linewidth': 1.5, 'edgecolor': 'white'},\n",
        "               explode=[0.1, 0])\n",
        "        ax.set_title(f'{id} {datetime.strptime(date, \"%Y-%m-%d\").strftime(\"%d\")}\\nSleep', y=1.1)\n",
        "        plt.show()"
      ],
      "metadata": {
        "id": "AEO5AXenefnP"
      },
      "execution_count": null,
      "outputs": []
    }
  ]
}